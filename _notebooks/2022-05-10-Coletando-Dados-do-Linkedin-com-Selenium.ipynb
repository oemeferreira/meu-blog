{
 "cells": [
  {
   "cell_type": "markdown",
   "id": "fe6de7d8",
   "metadata": {},
   "source": [
    "# Coletar descrição de jobs no Linkedin com Selenium"
   ]
  },
  {
   "cell_type": "markdown",
   "id": "92001399",
   "metadata": {},
   "source": [
    "## 1.Todas as importacoes"
   ]
  },
  {
   "cell_type": "code",
   "execution_count": 1,
   "id": "f0758e43",
   "metadata": {},
   "outputs": [],
   "source": [
    "# Criar uma instancia do Goolge Chrome pelo Selenium\n",
    "from selenium import webdriver\n",
    "from selenium.webdriver.common.by import By\n",
    "from time import sleep # Importa a função de tempo"
   ]
  },
  {
   "cell_type": "markdown",
   "id": "ca72c682",
   "metadata": {},
   "source": [
    "## 2.Todos os parametros"
   ]
  },
  {
   "cell_type": "code",
   "execution_count": 2,
   "id": "72a0dcb6",
   "metadata": {},
   "outputs": [],
   "source": [
    "URL_LINKEDIN_DS = 'https://www.linkedin.com/jobs/ci%C3%AAncia-de-dados-vagas/?originalSubdomain=br&position=1&pageNum=0'"
   ]
  },
  {
   "cell_type": "markdown",
   "id": "ed9a6166",
   "metadata": {},
   "source": [
    "## 3. Execução do código"
   ]
  },
  {
   "cell_type": "code",
   "execution_count": 6,
   "id": "c786379a",
   "metadata": {},
   "outputs": [],
   "source": [
    "if __name__ == '__main__':\n",
    "    driver = webdriver.Chrome()\n",
    "    driver.implicitly_wait(10)\n",
    "    driver.get(URL_LINKEDIN_DS)\n",
    "    vagas = driver.find_elements_by_class_name('base-card')\n",
    "    l_descricao = []\n",
    "    erros = 0\n",
    "\n",
    "    while True:\n",
    "        for vaga in vagas:\n",
    "            vaga.click()\n",
    "            sleep(1)\n",
    "            try:\n",
    "                descricao = driver.find_element_by_class_name('description')\n",
    "                l_descricao.append(descricao.text)\n",
    "            except:\n",
    "                print(\"Erro\")\n",
    "                erros +=1\n",
    "                pass\n",
    "        vagas = driver.find_elements_by_class_name('base-card')\n",
    "\n",
    "        if len(l_descricao)+erros == len(vagas):\n",
    "            break\n",
    "\n",
    "\n",
    "#Fechar o google driver\n",
    "driver.quit()"
   ]
  },
  {
   "cell_type": "code",
   "execution_count": 7,
   "id": "a942ddbb",
   "metadata": {},
   "outputs": [],
   "source": [
    "# Salvar descrições de vagas\n",
    "descri_salvar = '\\n'.join(l_descricao)\n",
    "with open('descricoes_vagas.txt', 'w', encoding=\"utf-8\") as f:\n",
    "    f.write(descri_salvar)"
   ]
  },
  {
   "cell_type": "code",
   "execution_count": null,
   "id": "0b9d793e",
   "metadata": {},
   "outputs": [],
   "source": []
  }
 ],
 "metadata": {
  "kernelspec": {
   "display_name": "Python 3 (ipykernel)",
   "language": "python",
   "name": "python3"
  },
  "language_info": {
   "codemirror_mode": {
    "name": "ipython",
    "version": 3
   },
   "file_extension": ".py",
   "mimetype": "text/x-python",
   "name": "python",
   "nbconvert_exporter": "python",
   "pygments_lexer": "ipython3",
   "version": "3.9.7"
  }
 },
 "nbformat": 4,
 "nbformat_minor": 5
}
